{
 "cells": [
  {
   "cell_type": "markdown",
   "metadata": {},
   "source": [
    "# 첫번째 파이썬 스타일 코드 연습해보기"
   ]
  },
  {
   "cell_type": "markdown",
   "metadata": {},
   "source": [
    "# 1. Css Selector 수정"
   ]
  },
  {
   "cell_type": "code",
   "execution_count": 6,
   "metadata": {},
   "outputs": [
    {
     "data": {
      "text/plain": [
       "'#today_main_news  >  div.hdline_news  >  ul  >  li'"
      ]
     },
     "execution_count": 6,
     "metadata": {},
     "output_type": "execute_result"
    }
   ],
   "source": [
    "# #today_main_news > div.hdline_news > ul > li:nth-child(1) 를 selector로 만든다.\n",
    "selector = \"#today_main_news > div.hdline_news > ul > li:nth-child(1)\"\n",
    "\n",
    "# >를 구분자로 설정하여 selector_list를 만든다.\n",
    "selector_list = selector.split(\">\")\n",
    "\n",
    "# li:nth-child(1)부분만 추출하고 이것을 다시 : 구분자로 하여 다시 할당한다.\n",
    "selector_list[-1] = selector_list[-1].split(\":\")[0]\n",
    "\n",
    "# 할당한 것을 >구분자로 다시 합쳐준다.\n",
    "\" > \".join(selector_list)"
   ]
  },
  {
   "cell_type": "markdown",
   "metadata": {},
   "source": [
    "# 2. list comprehension으로 만드는 구구단"
   ]
  },
  {
   "cell_type": "code",
   "execution_count": 11,
   "metadata": {},
   "outputs": [
    {
     "name": "stdout",
     "output_type": "stream",
     "text": [
      "7 x 1 = 7\n",
      "7 x 2 = 14\n",
      "7 x 3 = 21\n",
      "7 x 4 = 28\n",
      "7 x 5 = 35\n",
      "7 x 6 = 42\n",
      "7 x 7 = 49\n",
      "7 x 8 = 56\n",
      "7 x 9 = 63\n"
     ]
    }
   ],
   "source": [
    "# list와 for문을 사용하여 구구단 만들기\n",
    "def gugu_com(x=7):\n",
    "    [print(f\"{x} x {i} = {x*i}\") for i in range(1, 10)]\n",
    "\n",
    "gugu_com(7)"
   ]
  },
  {
   "cell_type": "markdown",
   "metadata": {},
   "source": [
    "# 3. 두 주사위의 곱"
   ]
  },
  {
   "cell_type": "code",
   "execution_count": 12,
   "metadata": {},
   "outputs": [
    {
     "data": {
      "text/plain": [
       "[[1, 2, 3, 4, 5, 6],\n",
       " [2, 4, 6, 8, 10, 12],\n",
       " [3, 6, 9, 12, 15, 18],\n",
       " [4, 8, 12, 16, 20, 24],\n",
       " [5, 10, 15, 20, 25, 30],\n",
       " [6, 12, 18, 24, 30, 36]]"
      ]
     },
     "execution_count": 12,
     "metadata": {},
     "output_type": "execute_result"
    }
   ],
   "source": [
    "# 1부터 6까지 값을 가진 die를 설정한다.\n",
    "die = [i for i in range(1,7)]\n",
    "\n",
    "# for문을 사용하여 각각의 값이 곱해지는 이차원 리스트를 만든다.\n",
    "[[j*i for i in die] for j in die]"
   ]
  },
  {
   "cell_type": "markdown",
   "metadata": {},
   "source": [
    "# 4. 두 주사위의 합"
   ]
  },
  {
   "cell_type": "markdown",
   "metadata": {},
   "source": [
    "첫번째 방법"
   ]
  },
  {
   "cell_type": "code",
   "execution_count": 13,
   "metadata": {},
   "outputs": [
    {
     "name": "stdout",
     "output_type": "stream",
     "text": [
      "8\n",
      "8\n"
     ]
    }
   ],
   "source": [
    "# 이차원 리스트 dice_sum을 생성한다.\n",
    "dice_sum = [[2, 3, 4, 5, 6, 7],\n",
    "            [3, 4, 5, 6, 7, 8],\n",
    "            [4, 5, 6, 7, 8, 9],\n",
    "            [5, 6, 7, 8, 9, 10],\n",
    "            [6, 7, 8, 9, 10, 11],\n",
    "            [7, 8, 9, 10, 11, 12]]\n",
    "\n",
    "# 이차원 리스트에서 1행 5열 값 and 5행 1열 값 추출\n",
    "print(dice_sum[1][5])\n",
    "print(dice_sum[5][1])"
   ]
  },
  {
   "cell_type": "markdown",
   "metadata": {},
   "source": [
    "두번째 방법"
   ]
  },
  {
   "cell_type": "code",
   "execution_count": 14,
   "metadata": {},
   "outputs": [
    {
     "name": "stdout",
     "output_type": "stream",
     "text": [
      "8\n",
      "8\n"
     ]
    }
   ],
   "source": [
    "# 1부터 6까지 값을 가진 die를 설정한다.\n",
    "die = [i for i in range(1,7)]\n",
    "\n",
    "# for문을 사용하여 각각의 값이 더해지는 이차원 리스트를 만든다.\n",
    "dice_sum = [[j+i for i in die] for j in die]\n",
    "\n",
    "# 이차원 리스트에서 1행 5열 값 and 5행 1열 값 추출\n",
    "print(dice_sum[1][5])\n",
    "print(dice_sum[5][1])"
   ]
  },
  {
   "cell_type": "markdown",
   "metadata": {},
   "source": [
    "# 5.표절 검사 프로그램"
   ]
  },
  {
   "cell_type": "code",
   "execution_count": 1,
   "metadata": {},
   "outputs": [],
   "source": [
    "# 함수를 불러온다.\n",
    "from collections import defaultdict, Counter\n",
    "\n",
    "# text, text2, text3를 설정한다.\n",
    "text = \"\"\"Python is a very simple programming language so even if you are new to programming, you can learn python without facing any issues.\"\"\"\n",
    "\n",
    "text2 = \"\"\"C is a very difficult programming language so even if you are good at programming, you can learn c with facing any issues.\"\"\"\n",
    "\n",
    "text3 = \"\"\"R Programming is good at statistical analysis. you can learn easily\"\"\""
   ]
  },
  {
   "cell_type": "code",
   "execution_count": 2,
   "metadata": {},
   "outputs": [],
   "source": [
    "# 함수를 만든다.\n",
    "def word_counter(text):\n",
    "    word_count = defaultdict(lambda: 0)  # 기본값을 0으로 설정\n",
    "    for word in text.lower().split():    # 대문자와 소문자 구분\n",
    "        word_count[word] += 1\n",
    "        \n",
    "    return word_count"
   ]
  },
  {
   "cell_type": "code",
   "execution_count": 3,
   "metadata": {},
   "outputs": [
    {
     "data": {
      "text/plain": [
       "defaultdict(<function __main__.word_counter.<locals>.<lambda>()>,\n",
       "            {'python': 2,\n",
       "             'is': 1,\n",
       "             'a': 1,\n",
       "             'very': 1,\n",
       "             'simple': 1,\n",
       "             'programming': 1,\n",
       "             'language': 1,\n",
       "             'so': 1,\n",
       "             'even': 1,\n",
       "             'if': 1,\n",
       "             'you': 2,\n",
       "             'are': 1,\n",
       "             'new': 1,\n",
       "             'to': 1,\n",
       "             'programming,': 1,\n",
       "             'can': 1,\n",
       "             'learn': 1,\n",
       "             'without': 1,\n",
       "             'facing': 1,\n",
       "             'any': 1,\n",
       "             'issues.': 1})"
      ]
     },
     "execution_count": 3,
     "metadata": {},
     "output_type": "execute_result"
    }
   ],
   "source": [
    "# 결과출력\n",
    "word_counter(text)"
   ]
  },
  {
   "cell_type": "code",
   "execution_count": 4,
   "metadata": {},
   "outputs": [],
   "source": [
    "# CounterA와 CounterB를 설정하여 공식에 따라 유사도를 측정하는 함수를 만들어준다.\n",
    "def text_similarity(text_count_1, text_count_2):\n",
    "    text1_count = Counter(text_count_1)\n",
    "    text2_count = Counter(text_count_2)\n",
    "    \n",
    "    word_total = sum(text1_count.values())\n",
    "    word_diff = sum((text1_count - text2_count).values())\n",
    "    \n",
    "    return (1 - word_diff / word_total) * 100"
   ]
  },
  {
   "cell_type": "code",
   "execution_count": 8,
   "metadata": {},
   "outputs": [
    {
     "data": {
      "text/plain": [
       "73.91304347826086"
      ]
     },
     "execution_count": 8,
     "metadata": {},
     "output_type": "execute_result"
    }
   ],
   "source": [
    "# text와 text2의 유사도를 구한다.\n",
    "text_similarity(word_counter(text), word_counter(text2))"
   ]
  },
  {
   "cell_type": "code",
   "execution_count": 9,
   "metadata": {},
   "outputs": [
    {
     "data": {
      "text/plain": [
       "21.739130434782606"
      ]
     },
     "execution_count": 9,
     "metadata": {},
     "output_type": "execute_result"
    }
   ],
   "source": [
    "# text와 text2의 유사도를 구한다.\n",
    "text_similarity(word_counter(text), word_counter(text3))"
   ]
  },
  {
   "cell_type": "markdown",
   "metadata": {},
   "source": [
    "# 두번째 파이썬 스타일 코드 연습해보기 "
   ]
  },
  {
   "cell_type": "markdown",
   "metadata": {},
   "source": [
    "# 1. 람다함수"
   ]
  },
  {
   "cell_type": "markdown",
   "metadata": {},
   "source": [
    "- 람다(lambda) 함수는 함수의 이름 없이, 함수처럼 사용할 수 있는 익명의 함수를 말한다\n",
    "선형대수나 미적분 등의 과목을 수강하다 보면, 한 번쯤 람다 대수라는 표현을 들어 보았을 것이다. \n",
    "람다 함수의 '람다'는 바로 이 람다 대수에서 유래하였다. \n",
    "일반적으로 람다 함수는 이름을 지정하지 않아도 사용할 수 있다."
   ]
  },
  {
   "cell_type": "code",
   "execution_count": 10,
   "metadata": {},
   "outputs": [
    {
     "name": "stdout",
     "output_type": "stream",
     "text": [
      "5\n"
     ]
    }
   ],
   "source": [
    "# 기존에 사용하는 함수\n",
    "def f(x,y):\n",
    "    return x + y\n",
    "\n",
    "print(f(1,4))"
   ]
  },
  {
   "cell_type": "code",
   "execution_count": 11,
   "metadata": {},
   "outputs": [
    {
     "name": "stdout",
     "output_type": "stream",
     "text": [
      "5\n"
     ]
    }
   ],
   "source": [
    "# 람다함수 할당\n",
    "f=lambda x,y: x + y\n",
    "print(f(1,4))"
   ]
  },
  {
   "cell_type": "code",
   "execution_count": 12,
   "metadata": {},
   "outputs": [
    {
     "name": "stdout",
     "output_type": "stream",
     "text": [
      "5\n"
     ]
    }
   ],
   "source": [
    "# 익명의 람다함수 할당\n",
    "print((lambda x, y:x + y)(1, 4))"
   ]
  },
  {
   "cell_type": "markdown",
   "metadata": {},
   "source": [
    "# 2. 맵리듀스"
   ]
  },
  {
   "cell_type": "markdown",
   "metadata": {},
   "source": [
    "- 연속 데이터를 저장하는 시퀀스 자료형에서 요소마다 같은 기능을 적용할 때 사용한다. 일반적으로 리스트나 튜플처럼 요소가 있는 시퀀스 자료형에 사용된다."
   ]
  },
  {
   "cell_type": "markdown",
   "metadata": {},
   "source": [
    "# 2.1 map 함수"
   ]
  },
  {
   "cell_type": "code",
   "execution_count": 13,
   "metadata": {},
   "outputs": [
    {
     "name": "stdout",
     "output_type": "stream",
     "text": [
      "[1, 4, 9, 16, 25]\n"
     ]
    }
   ],
   "source": [
    "#리스트 설정\n",
    "ex = [1,2,3,4,5]\n",
    "\n",
    "# 입력된 값을 제곱하는 f함수 생성\n",
    "f = lambda x:x**2\n",
    "\n",
    "# 함수 f를 ex각 요소에 매핑 한다.\n",
    "print(list(map(f, ex)))"
   ]
  },
  {
   "cell_type": "code",
   "execution_count": 14,
   "metadata": {},
   "outputs": [
    {
     "data": {
      "text/plain": [
       "[1, 4, 9, 16, 25]"
      ]
     },
     "execution_count": 14,
     "metadata": {},
     "output_type": "execute_result"
    }
   ],
   "source": [
    "# 위 코드를 더 간단하게 만들기\n",
    "ex = [1, 2, 3, 4, 5]\n",
    "[x**2 for x in ex]"
   ]
  },
  {
   "cell_type": "code",
   "execution_count": 15,
   "metadata": {},
   "outputs": [
    {
     "data": {
      "text/plain": [
       "[2, 4, 6, 8, 10]"
      ]
     },
     "execution_count": 15,
     "metadata": {},
     "output_type": "execute_result"
    }
   ],
   "source": [
    "# 한개 이산의 시퀀스 자료형을 처리하는 방법\n",
    "ex=[1,2,3,4,5]\n",
    "\n",
    "# f함수 생성\n",
    "f=lambda x,y:x+y\n",
    "list(map(f,ex,ex))"
   ]
  },
  {
   "cell_type": "code",
   "execution_count": 16,
   "metadata": {},
   "outputs": [
    {
     "data": {
      "text/plain": [
       "[2, 4, 6, 8, 10]"
      ]
     },
     "execution_count": 16,
     "metadata": {},
     "output_type": "execute_result"
    }
   ],
   "source": [
    "# 리스트 컴프리헨션 용법\n",
    "[x+y for x,y in zip(ex,ex)] "
   ]
  },
  {
   "cell_type": "markdown",
   "metadata": {},
   "source": [
    "# 2.2 reduce함수"
   ]
  },
  {
   "cell_type": "code",
   "execution_count": null,
   "metadata": {},
   "outputs": [],
   "source": [
    "# 함수 불러오기\n",
    "from functools import reduce\n",
    "\n",
    "# 시퀀스 자료형에 차례대로 함수를 적용하여 모든값을 통합한다.\n",
    "print(reduce(lambda x,y:x+y, [1,2,3,4,5]))"
   ]
  },
  {
   "cell_type": "markdown",
   "metadata": {},
   "source": [
    "# 3. 별표의 활용"
   ]
  },
  {
   "cell_type": "code",
   "execution_count": 18,
   "metadata": {},
   "outputs": [
    {
     "name": "stdout",
     "output_type": "stream",
     "text": [
      "1 (2, 3, 4, 5, 6)\n",
      "<class 'tuple'>\n"
     ]
    }
   ],
   "source": [
    "# 가변 인수로 활용\n",
    "def asterisk_test(a, *args):\n",
    "    print(a,args)\n",
    "    print(type(args))\n",
    "\n",
    "asterisk_test(1,2,3,4,5,6)"
   ]
  },
  {
   "cell_type": "code",
   "execution_count": 19,
   "metadata": {},
   "outputs": [
    {
     "name": "stdout",
     "output_type": "stream",
     "text": [
      "1 {'b': 2, 'c': 3, 'd': 4, 'e': 5, 'f': 6}\n",
      "<class 'dict'>\n"
     ]
    }
   ],
   "source": [
    "# 키워드 가변 인수로 활용\n",
    "def asterisk_test(a,**kargs):\n",
    "    print(a,kargs)\n",
    "    print(type(kargs))\n",
    "asterisk_test(1,b=2,c=3,d=4,e=5,f=6)"
   ]
  },
  {
   "cell_type": "code",
   "execution_count": 21,
   "metadata": {},
   "outputs": [
    {
     "name": "stdout",
     "output_type": "stream",
     "text": [
      "1 2 3 4 5 6\n",
      "<class 'tuple'>\n"
     ]
    }
   ],
   "source": [
    "# 함수에서 사용하는 별표의 언패킹 \n",
    "def asterisk_test(a,args):\n",
    "    print(a,*args)\n",
    "    print(type(args))\n",
    "asterisk_test(1,(2,3,4,5,6))"
   ]
  },
  {
   "cell_type": "code",
   "execution_count": 22,
   "metadata": {},
   "outputs": [
    {
     "name": "stdout",
     "output_type": "stream",
     "text": [
      "[1, 2] [3, 4] [5, 6]\n",
      "[1, 2] [3, 4] [5, 6]\n"
     ]
    }
   ],
   "source": [
    "# 일반 자료형에서 사용하는 별표의 언패킹\n",
    "a,b,c=([1,2], [3,4], [5,6])\n",
    "print(a,b,c)\n",
    "data=([1,2], [3,4], [5,6])\n",
    "print(*data)"
   ]
  },
  {
   "cell_type": "code",
   "execution_count": 23,
   "metadata": {},
   "outputs": [
    {
     "name": "stdout",
     "output_type": "stream",
     "text": [
      "(1, 3, 5)\n",
      "<class 'tuple'>\n",
      "(2, 4, 6)\n",
      "<class 'tuple'>\n"
     ]
    }
   ],
   "source": [
    "# zip함수와 함께 응용하여 사용\n",
    "for data in zip(*[[1,2],[3,4],[5,6]]):\n",
    "    print(data)\n",
    "    print(type(data))"
   ]
  },
  {
   "cell_type": "code",
   "execution_count": 24,
   "metadata": {},
   "outputs": [
    {
     "name": "stdout",
     "output_type": "stream",
     "text": [
      "10 1 2 3\n"
     ]
    }
   ],
   "source": [
    "# 키워드 가변 인수를 응용하여 사용\n",
    "def asterisk_test(a,b,c,d):\n",
    "    print(a,b,c,d)\n",
    "data={\"b\":1, \"c\":2, \"d\":3}\n",
    "asterisk_test(10, **data)"
   ]
  },
  {
   "cell_type": "markdown",
   "metadata": {},
   "source": [
    "# 4. 선형대수학"
   ]
  },
  {
   "cell_type": "code",
   "execution_count": 25,
   "metadata": {},
   "outputs": [],
   "source": [
    "vector_a=[1,2,10]  # 리스트로 표현한 경우\n",
    "vector_b=(1,2,10)   # 튜플로 표현한 경우\n",
    "vector_c={'x':1, 'y':2, 'z':10}  # 딕셔너리로 표현한 경우"
   ]
  },
  {
   "cell_type": "code",
   "execution_count": 26,
   "metadata": {},
   "outputs": [
    {
     "name": "stdout",
     "output_type": "stream",
     "text": [
      "[7, 10]\n"
     ]
    }
   ],
   "source": [
    "# 행렬의 합 구하기\n",
    "u=[2,2]\n",
    "v=[2,3]\n",
    "z=[3,5]\n",
    "result=[]\n",
    "\n",
    "for i in range(len(u)):\n",
    "    result.append(u[i]+v[i]+z[i])\n",
    "print(result)"
   ]
  },
  {
   "cell_type": "code",
   "execution_count": 27,
   "metadata": {},
   "outputs": [
    {
     "name": "stdout",
     "output_type": "stream",
     "text": [
      "[7, 10]\n"
     ]
    }
   ],
   "source": [
    "# 행렬의 합 구하기\n",
    "u=[2,2]\n",
    "v=[2,3]\n",
    "z=[3,5]\n",
    "result=[sum(t) for t in zip(u,v,z)]\n",
    "print(result)"
   ]
  },
  {
   "cell_type": "code",
   "execution_count": 28,
   "metadata": {},
   "outputs": [
    {
     "data": {
      "text/plain": [
       "[7, 10]"
      ]
     },
     "execution_count": 28,
     "metadata": {},
     "output_type": "execute_result"
    }
   ],
   "source": [
    "# 별표를 사용하여 함수화 하기\n",
    "def vector_addition(*args):\n",
    "    return [sum(t) for t in zip(*args)]   # unpacking 통해 zip(u,v,z) 효과를 낼 수 있음.\n",
    "\n",
    "vector_addition(u,v,z)"
   ]
  },
  {
   "cell_type": "code",
   "execution_count": 29,
   "metadata": {},
   "outputs": [
    {
     "data": {
      "text/plain": [
       "[3, 3]"
      ]
     },
     "execution_count": 29,
     "metadata": {},
     "output_type": "execute_result"
    }
   ],
   "source": [
    "a = [1, 1]\n",
    "b = [2, 2]\n",
    "\n",
    "[x + y for x, y in zip(a, b)]"
   ]
  },
  {
   "cell_type": "code",
   "execution_count": 30,
   "metadata": {},
   "outputs": [
    {
     "data": {
      "text/plain": [
       "[10, 12, 14]"
      ]
     },
     "execution_count": 30,
     "metadata": {},
     "output_type": "execute_result"
    }
   ],
   "source": [
    "# 합쳐진 벡터에 alpha값 곱하기\n",
    "u=[1,2,3]\n",
    "v=[4,4,4]\n",
    "\n",
    "alpha=2\n",
    "\n",
    "result=[alpha*sum(t) for t in zip(u,v)]\n",
    "result"
   ]
  },
  {
   "cell_type": "code",
   "execution_count": 31,
   "metadata": {},
   "outputs": [],
   "source": [
    "matrix_a=[[3,6], [4,5]] #리스트로 표현한 경우\n",
    "matrix_b=[(3,6), (4,5)] #튜플로 표현한 경우\n",
    "matrix_c={(0,0):3, (0,1):6, (1,0):4, (1,1):5}  #디셔너리로 표현한경우"
   ]
  },
  {
   "cell_type": "code",
   "execution_count": 32,
   "metadata": {},
   "outputs": [
    {
     "name": "stdout",
     "output_type": "stream",
     "text": [
      "[[8, 14], [10, 12]]\n"
     ]
    }
   ],
   "source": [
    "matrix_a=[[3,6], [4,5]]\n",
    "matrix_b=[[5,8], [6,7]]\n",
    "\n",
    "#행렬의 elemnet-wise 합\n",
    "result=[[sum(row) for row in zip(*t)] for t in zip(matrix_a, matrix_b)]\n",
    "print(result)"
   ]
  },
  {
   "cell_type": "markdown",
   "metadata": {},
   "source": [
    "# 5. 주민등록번호로 성별 찾기"
   ]
  },
  {
   "cell_type": "code",
   "execution_count": 33,
   "metadata": {},
   "outputs": [
    {
     "data": {
      "text/plain": [
       "['1', '2', '1', '1']"
      ]
     },
     "execution_count": 33,
     "metadata": {},
     "output_type": "execute_result"
    }
   ],
   "source": [
    "# 주민등록번호를 리스트로 지정해준다.\n",
    "pins = [\"891120-1234567\", \"931120-2335567\", \"911120-1234234\", \"951120-1234567\"]\n",
    "\n",
    "# 람다 함수를 사용한다.\n",
    "# -를 구분자로 사용하여 성별 부분을 추출해준다.\n",
    "list(map(lambda x: x.split(\"-\")[1][0], pins))"
   ]
  },
  {
   "cell_type": "markdown",
   "metadata": {},
   "source": [
    "# 6. 벡터의 내적"
   ]
  },
  {
   "cell_type": "code",
   "execution_count": 34,
   "metadata": {},
   "outputs": [
    {
     "data": {
      "text/plain": [
       "11"
      ]
     },
     "execution_count": 34,
     "metadata": {},
     "output_type": "execute_result"
    }
   ],
   "source": [
    "a = [1, 2]\n",
    "b = [3, 4]\n",
    "\n",
    "# v1∗w1+⋯+vn∗wn공식을 가진 dot함수를 만든다.\n",
    "dot = lambda a,b : sum([x*y for x, y in zip(a, b)])\n",
    "\n",
    "# 결과도출\n",
    "dot(a,b)"
   ]
  }
 ],
 "metadata": {
  "kernelspec": {
   "display_name": "Python 3",
   "language": "python",
   "name": "python3"
  },
  "language_info": {
   "codemirror_mode": {
    "name": "ipython",
    "version": 3
   },
   "file_extension": ".py",
   "mimetype": "text/x-python",
   "name": "python",
   "nbconvert_exporter": "python",
   "pygments_lexer": "ipython3",
   "version": "3.7.4"
  }
 },
 "nbformat": 4,
 "nbformat_minor": 2
}
